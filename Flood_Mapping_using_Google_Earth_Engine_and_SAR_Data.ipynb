{
  "cells": [
    {
      "cell_type": "markdown",
      "metadata": {
        "id": "view-in-github",
        "colab_type": "text"
      },
      "source": [
        "<a href=\"https://colab.research.google.com/github/ccalvocm/GEE/blob/testFeatureCollection/Flood_Mapping_using_Google_Earth_Engine_and_SAR_Data.ipynb\" target=\"_parent\"><img src=\"https://colab.research.google.com/assets/colab-badge.svg\" alt=\"Open In Colab\"/></a>"
      ]
    },
    {
      "cell_type": "markdown",
      "metadata": {
        "id": "lcQXHPqTx8k4"
      },
      "source": []
    },
    {
      "cell_type": "markdown",
      "metadata": {
        "id": "9IiP-K8SvGk6"
      },
      "source": [
        "## Google Earth Engine (GEE) and Synthetic Aperture Radar (SAR) Data for Flood Mapping in Nile Basin\n",
        "\n",
        "This notebook presents the detection of flooded area over Khartoum, Sudan and its surrounding region from the overflow of Nile Rivers and heavy rains by utilizing Sentinel-1 synthetic aperture radar (SAR) data acquired during dry and wet seasons of 2020. According to the [International Federation of Red Cross and Red Crescent Societies's (IFRC) ](https://www.ifrc.org/en/news-and-media/news-stories/africa/sudan/heavy-rains-and-flash-floods-in-sudan-66633/) report, the heavy rains (from middle July to August) and overflow of Nile Rivers (both Blue and White) have caused flooding, destruction of infrastructure, houses and livelihoods, and have displaced thousands of people in multiple locations across the country, primiarly in Khartoum and its surrounding area."
      ]
    },
    {
      "cell_type": "markdown",
      "metadata": {
        "id": "2twfRDW0vHdl"
      },
      "source": [
        "<div align=\"center\">\n",
        "  <img width=\"800\" height=\"500\" src=\"https://www.dabangasudan.org/uploads/cache/article_detail_image/uploads/media/5f589cb1db2d9.png\">\n",
        "</div>"
      ]
    },
    {
      "cell_type": "markdown",
      "metadata": {
        "id": "6-3y0-TQu2wE"
      },
      "source": [
        "## Authenticate to Colab and Cloud"
      ]
    },
    {
      "cell_type": "code",
      "execution_count": null,
      "metadata": {
        "id": "eOkdTqRfx9nO"
      },
      "outputs": [],
      "source": [
        "from google.colab import auth\n",
        "auth.authenticate_user()"
      ]
    },
    {
      "cell_type": "markdown",
      "metadata": {
        "id": "O7Z2YQA_x9qC"
      },
      "source": [
        "### Authenticate to Earth Engine"
      ]
    },
    {
      "cell_type": "code",
      "execution_count": 1,
      "metadata": {
        "colab": {
          "base_uri": "https://localhost:8080/"
        },
        "id": "pf8AwmGAx9s8",
        "outputId": "a7b1ceac-67c4-45ab-f575-f94a0253c88d"
      },
      "outputs": [
        {
          "output_type": "stream",
          "name": "stdout",
          "text": [
            "To authorize access needed by Earth Engine, open the following URL in a web browser and follow the instructions. If the web browser does not start automatically, please manually browse the URL below.\n",
            "\n",
            "    https://code.earthengine.google.com/client-auth?scopes=https%3A//www.googleapis.com/auth/earthengine%20https%3A//www.googleapis.com/auth/devstorage.full_control&request_id=-QAhUW0C1dlelisYtkok_wP4jtIPnW1BIwMn-XBxPK4&tc=QHXn8cd3IlDUElJc5ifXR_Os42FXSedEJNkW1O7TKJ0&cc=M3GIw2Wpzbrs58E0YwJ_XMq-3ymvt1DyWCaKBa4mgZ0\n",
            "\n",
            "The authorization workflow will generate a code, which you should paste in the box below.\n",
            "Enter verification code: 4/1AZEOvhUk-oyeb344EsAZ9lk9DTzvKKnhMKvRYHTzfTJvOjB_G8L674l2lCk\n",
            "\n",
            "Successfully saved authorization token.\n"
          ]
        }
      ],
      "source": [
        "import ee\n",
        "ee.Authenticate()\n",
        "ee.Initialize()"
      ]
    },
    {
      "cell_type": "markdown",
      "metadata": {
        "id": "YMmqAX0lJ2Lf"
      },
      "source": [
        "### Mount Google Drive"
      ]
    },
    {
      "cell_type": "code",
      "execution_count": null,
      "metadata": {
        "colab": {
          "base_uri": "https://localhost:8080/"
        },
        "id": "WXLeBA9uJ8Rq",
        "outputId": "0f732e92-5de4-43ac-ed82-f0deaf799a36"
      },
      "outputs": [
        {
          "output_type": "stream",
          "name": "stdout",
          "text": [
            "Mounted at /content/gdrive\n"
          ]
        }
      ],
      "source": [
        "from google.colab import drive\n",
        "drive.mount('/content/gdrive')"
      ]
    },
    {
      "cell_type": "markdown",
      "metadata": {
        "id": "8eAoDyr-x91-"
      },
      "source": [
        "### Test the Folium installation\n",
        "\n",
        "We will use the Folium library for visualization.  Import the library and check the version."
      ]
    },
    {
      "cell_type": "code",
      "execution_count": 2,
      "metadata": {
        "colab": {
          "base_uri": "https://localhost:8080/"
        },
        "id": "bCT-N62k2sG4",
        "outputId": "2935fcc6-0d70-4238-e015-af871ae4787b"
      },
      "outputs": [
        {
          "output_type": "stream",
          "name": "stdout",
          "text": [
            "0.14.0\n"
          ]
        }
      ],
      "source": [
        "import folium\n",
        "print(folium.__version__)"
      ]
    },
    {
      "cell_type": "code",
      "execution_count": 3,
      "metadata": {
        "id": "aUr-yPK94X-c"
      },
      "outputs": [],
      "source": [
        "## Define Region of Interest (ROI)\n",
        "\n",
        "roi_Nuble_flood = ee.Geometry.Polygon([\n",
        "[-72.02068198409884,-36.188943069996746],\n",
        "[-70.62541831222384,-36.188943069996746],\n",
        "[-70.62541831222384,-34.91303129593276],\n",
        "[-72.02068198409884,-34.91303129593276],\n",
        "[-72.02068198409884,-36.188943069996746]])\n",
        "\n",
        "## Load Sentinel-1 C-band SAR Ground Range collection (log scale, VV, descending)\n",
        "collectionVV = ee.ImageCollection('COPERNICUS/S1_GRD')\\\n",
        ".filter(ee.Filter.eq('instrumentMode', 'IW'))\\\n",
        ".filter(ee.Filter.listContains('transmitterReceiverPolarisation', 'VV'))\\\n",
        ".filter(ee.Filter.eq('orbitProperties_pass', 'DESCENDING'))\\\n",
        ".filterMetadata('resolution_meters', 'equals' , 10)\\\n",
        ".filterBounds(roi_Nuble_flood)\\\n",
        ".select('VV')\n",
        "\n",
        "## Load Sentinel-1 C-band SAR Ground Range collection (log scale, VH, descending)\n",
        "collectionVH = ee.ImageCollection('COPERNICUS/S1_GRD')\\\n",
        ".filter(ee.Filter.eq('instrumentMode', 'IW'))\\\n",
        ".filter(ee.Filter.listContains('transmitterReceiverPolarisation', 'VH'))\\\n",
        ".filter(ee.Filter.eq('orbitProperties_pass', 'DESCENDING'))\\\n",
        ".filterMetadata('resolution_meters', 'equals' , 10)\\\n",
        ".filterBounds(roi_Nuble_flood)\\\n",
        ".select('VH')\n",
        "\n",
        "## Filter by season\n",
        "wet2020VV = collectionVV.filterDate('2023-06-21', '2023-06-28').mosaic()\n",
        "dry2020VV = collectionVV.filterDate('2023-01-01', '2023-02-28').mosaic()\n",
        "wet2020VH = collectionVH.filterDate('2023-06-21', '2023-06-28').mosaic()\n",
        "dry2020VH = collectionVH.filterDate('2023-01-01', '2023-02-28').mosaic()"
      ]
    },
    {
      "cell_type": "code",
      "execution_count": 4,
      "metadata": {
        "colab": {
          "base_uri": "https://localhost:8080/"
        },
        "id": "b9YVIoe1-LUP",
        "outputId": "643e137e-5a05-4b1c-908e-a34878c6dcc6"
      },
      "outputs": [
        {
          "output_type": "execute_result",
          "data": {
            "text/plain": [
              "<folium.raster_layers.TileLayer at 0x7f89e1f6f220>"
            ]
          },
          "metadata": {},
          "execution_count": 4
        }
      ],
      "source": [
        "## Use folium to visualize the imagery.\n",
        "\n",
        "mapidVVwet = wet2020VV.getMapId({'min': -15, 'max': 0})\n",
        "mapidVVdry = dry2020VV.getMapId({'min': -15, 'max': 0})\n",
        "mapidVHwet = wet2020VH.getMapId({'min': -25, 'max': 0})\n",
        "mapidVHdry = dry2020VH.getMapId({'min': -25, 'max': 0})\n",
        "\n",
        "map = folium.Map(location=[-71.82400911149269,-36.29123750152623],zoom_start=8)\n",
        "folium.TileLayer(\n",
        "    tiles=mapidVVwet['tile_fetcher'].url_format,\n",
        "    attr='Map Data &copy; <a href=\"https://earthengine.google.com/\">Google Earth Engine</a>',\n",
        "    overlay=True,\n",
        "    name='Wet2020VV',\n",
        "  ).add_to(map)\n",
        "folium.TileLayer(\n",
        "    tiles=mapidVVdry['tile_fetcher'].url_format,\n",
        "    attr='Map Data &copy; <a href=\"https://earthengine.google.com/\">Google Earth Engine</a>',\n",
        "    overlay=True,\n",
        "    name='Det2020VV',\n",
        "  ).add_to(map)\n",
        "folium.TileLayer(\n",
        "    tiles=mapidVHwet['tile_fetcher'].url_format,\n",
        "    attr='Map Data &copy; <a href=\"https://earthengine.google.com/\">Google Earth Engine</a>',\n",
        "    overlay=True,\n",
        "    name='Wet2020VH',\n",
        "  ).add_to(map)\n",
        "folium.TileLayer(\n",
        "    tiles=mapidVHdry['tile_fetcher'].url_format,\n",
        "    attr='Map Data &copy; <a href=\"https://earthengine.google.com/\">Google Earth Engine</a>',\n",
        "    overlay=True,\n",
        "    name='Det2020VH',\n",
        "  ).add_to(map)"
      ]
    },
    {
      "cell_type": "code",
      "execution_count": 5,
      "metadata": {
        "id": "YJveVgEL-LJR"
      },
      "outputs": [],
      "source": [
        "## Apply filter to reduce speckle\n",
        "SMOOTHING_RADIUS = 50;\n",
        "wet2020VV_filtered = wet2020VV.focal_mean(SMOOTHING_RADIUS, 'circle', 'meters')\n",
        "dry2020VV_filtered = dry2020VV.focal_mean(SMOOTHING_RADIUS, 'circle', 'meters')\n",
        "wet2020VH_filtered = wet2020VH.focal_mean(SMOOTHING_RADIUS, 'circle', 'meters')\n",
        "dry2020VH_filtered = dry2020VH.focal_mean(SMOOTHING_RADIUS, 'circle', 'meters')"
      ]
    },
    {
      "cell_type": "markdown",
      "metadata": {
        "id": "fE2ysn89rm8L"
      },
      "source": [
        "### Comparing speckle filtered and unfiltered images"
      ]
    },
    {
      "cell_type": "code",
      "execution_count": 6,
      "metadata": {
        "colab": {
          "base_uri": "https://localhost:8080/"
        },
        "id": "NdgdT8fxsCzX",
        "outputId": "9c176258-5dda-45fd-acaa-700474f4a9e4"
      },
      "outputs": [
        {
          "output_type": "execute_result",
          "data": {
            "text/plain": [
              "<folium.raster_layers.TileLayer at 0x7f89e1f9e350>"
            ]
          },
          "metadata": {},
          "execution_count": 6
        }
      ],
      "source": [
        "mapidVVwet_fil = wet2020VV_filtered.getMapId({'min': -15, 'max': 0})\n",
        "mapidVVdry_fil = dry2020VV_filtered.getMapId({'min': -15, 'max': 0})\n",
        "mapidVHwet_fil = wet2020VH_filtered.getMapId({'min': -25, 'max': 0})\n",
        "mapidVHdry_fil = dry2020VH_filtered.getMapId({'min': -25, 'max': 0})\n",
        "\n",
        "mapcom = folium.Map(location=[-71.82400911149269,-36.29123750152623],zoom_start=8)\n",
        "folium.TileLayer(\n",
        "    tiles=mapidVVwet_fil['tile_fetcher'].url_format,\n",
        "    attr='Map Data &copy; <a href=\"https://earthengine.google.com/\">Google Earth Engine</a>',\n",
        "    overlay=True,\n",
        "    name='Wet2020VV Filtered',\n",
        "  ).add_to(mapcom)\n",
        "folium.TileLayer(\n",
        "    tiles=mapidVVdry_fil['tile_fetcher'].url_format,\n",
        "    attr='Map Data &copy; <a href=\"https://earthengine.google.com/\">Google Earth Engine</a>',\n",
        "    overlay=True,\n",
        "    name='Det2020VV Filtered',\n",
        "  ).add_to(mapcom)\n",
        "folium.TileLayer(\n",
        "    tiles=mapidVHwet_fil['tile_fetcher'].url_format,\n",
        "    attr='Map Data &copy; <a href=\"https://earthengine.google.com/\">Google Earth Engine</a>',\n",
        "    overlay=True,\n",
        "    name='Wet2020VH Filtered',\n",
        "  ).add_to(mapcom)\n",
        "folium.TileLayer(\n",
        "    tiles=mapidVHdry_fil['tile_fetcher'].url_format,\n",
        "    attr='Map Data &copy; <a href=\"https://earthengine.google.com/\">Google Earth Engine</a>',\n",
        "    overlay=True,\n",
        "    name='Det2020VH Filtered',\n",
        "  ).add_to(mapcom)"
      ]
    },
    {
      "cell_type": "code",
      "execution_count": 7,
      "metadata": {
        "id": "eUXTVoQ6G-7A"
      },
      "outputs": [],
      "source": [
        "## Calculate difference between wet (flooded) and dry seasons\n",
        "differenceVH = wet2020VH_filtered.divide(dry2020VH_filtered)\n",
        "differenceVV = wet2020VV_filtered.divide(dry2020VV_filtered)\n",
        "\n",
        "## Apply Threshold\n",
        "DIFF_UPPER_THRESHOLD = 1.25;\n",
        "differenceVH_thresholded = differenceVH.gt(DIFF_UPPER_THRESHOLD);\n",
        "differenceVV_thresholded = differenceVV.gt(DIFF_UPPER_THRESHOLD);"
      ]
    },
    {
      "cell_type": "code",
      "execution_count": 8,
      "metadata": {
        "colab": {
          "base_uri": "https://localhost:8080/",
          "height": 915
        },
        "id": "nbXep3stIAYS",
        "outputId": "884e10ac-7228-43c5-bfaf-269a279ea968"
      },
      "outputs": [
        {
          "output_type": "execute_result",
          "data": {
            "text/plain": [
              "<folium.folium.Map at 0x7f89e1f9d840>"
            ],
            "text/html": [
              "<div style=\"width:100%;\"><div style=\"position:relative;width:100%;height:0;padding-bottom:60%;\"><span style=\"color:#565656\">Make this Notebook Trusted to load map: File -> Trust Notebook</span><iframe srcdoc=\"&lt;!DOCTYPE html&gt;\n",
              "&lt;html&gt;\n",
              "&lt;head&gt;\n",
              "    \n",
              "    &lt;meta http-equiv=&quot;content-type&quot; content=&quot;text/html; charset=UTF-8&quot; /&gt;\n",
              "    \n",
              "        &lt;script&gt;\n",
              "            L_NO_TOUCH = false;\n",
              "            L_DISABLE_3D = false;\n",
              "        &lt;/script&gt;\n",
              "    \n",
              "    &lt;style&gt;html, body {width: 100%;height: 100%;margin: 0;padding: 0;}&lt;/style&gt;\n",
              "    &lt;style&gt;#map {position:absolute;top:0;bottom:0;right:0;left:0;}&lt;/style&gt;\n",
              "    &lt;script src=&quot;https://cdn.jsdelivr.net/npm/leaflet@1.9.3/dist/leaflet.js&quot;&gt;&lt;/script&gt;\n",
              "    &lt;script src=&quot;https://code.jquery.com/jquery-1.12.4.min.js&quot;&gt;&lt;/script&gt;\n",
              "    &lt;script src=&quot;https://cdn.jsdelivr.net/npm/bootstrap@5.2.2/dist/js/bootstrap.bundle.min.js&quot;&gt;&lt;/script&gt;\n",
              "    &lt;script src=&quot;https://cdnjs.cloudflare.com/ajax/libs/Leaflet.awesome-markers/2.0.2/leaflet.awesome-markers.js&quot;&gt;&lt;/script&gt;\n",
              "    &lt;link rel=&quot;stylesheet&quot; href=&quot;https://cdn.jsdelivr.net/npm/leaflet@1.9.3/dist/leaflet.css&quot;/&gt;\n",
              "    &lt;link rel=&quot;stylesheet&quot; href=&quot;https://cdn.jsdelivr.net/npm/bootstrap@5.2.2/dist/css/bootstrap.min.css&quot;/&gt;\n",
              "    &lt;link rel=&quot;stylesheet&quot; href=&quot;https://netdna.bootstrapcdn.com/bootstrap/3.0.0/css/bootstrap.min.css&quot;/&gt;\n",
              "    &lt;link rel=&quot;stylesheet&quot; href=&quot;https://cdn.jsdelivr.net/npm/@fortawesome/fontawesome-free@6.2.0/css/all.min.css&quot;/&gt;\n",
              "    &lt;link rel=&quot;stylesheet&quot; href=&quot;https://cdnjs.cloudflare.com/ajax/libs/Leaflet.awesome-markers/2.0.2/leaflet.awesome-markers.css&quot;/&gt;\n",
              "    &lt;link rel=&quot;stylesheet&quot; href=&quot;https://cdn.jsdelivr.net/gh/python-visualization/folium/folium/templates/leaflet.awesome.rotate.min.css&quot;/&gt;\n",
              "    \n",
              "            &lt;meta name=&quot;viewport&quot; content=&quot;width=device-width,\n",
              "                initial-scale=1.0, maximum-scale=1.0, user-scalable=no&quot; /&gt;\n",
              "            &lt;style&gt;\n",
              "                #map_def52b8be40c99a35f51b48f0c551c70 {\n",
              "                    position: relative;\n",
              "                    width: 100.0%;\n",
              "                    height: 100.0%;\n",
              "                    left: 0.0%;\n",
              "                    top: 0.0%;\n",
              "                }\n",
              "                .leaflet-container { font-size: 1rem; }\n",
              "            &lt;/style&gt;\n",
              "        \n",
              "&lt;/head&gt;\n",
              "&lt;body&gt;\n",
              "    \n",
              "    \n",
              "            &lt;div class=&quot;folium-map&quot; id=&quot;map_def52b8be40c99a35f51b48f0c551c70&quot; &gt;&lt;/div&gt;\n",
              "        \n",
              "&lt;/body&gt;\n",
              "&lt;script&gt;\n",
              "    \n",
              "    \n",
              "            var map_def52b8be40c99a35f51b48f0c551c70 = L.map(\n",
              "                &quot;map_def52b8be40c99a35f51b48f0c551c70&quot;,\n",
              "                {\n",
              "                    center: [-71.82400911149269, -36.29123750152623],\n",
              "                    crs: L.CRS.EPSG3857,\n",
              "                    zoom: 1,\n",
              "                    zoomControl: true,\n",
              "                    preferCanvas: false,\n",
              "                }\n",
              "            );\n",
              "\n",
              "            \n",
              "\n",
              "        \n",
              "    \n",
              "            var tile_layer_bcd529c3bec0e1a69396712f34933d87 = L.tileLayer(\n",
              "                &quot;https://{s}.tile.openstreetmap.org/{z}/{x}/{y}.png&quot;,\n",
              "                {&quot;attribution&quot;: &quot;Data by \\u0026copy; \\u003ca target=\\&quot;_blank\\&quot; href=\\&quot;http://openstreetmap.org\\&quot;\\u003eOpenStreetMap\\u003c/a\\u003e, under \\u003ca target=\\&quot;_blank\\&quot; href=\\&quot;http://www.openstreetmap.org/copyright\\&quot;\\u003eODbL\\u003c/a\\u003e.&quot;, &quot;detectRetina&quot;: false, &quot;maxNativeZoom&quot;: 18, &quot;maxZoom&quot;: 18, &quot;minZoom&quot;: 0, &quot;noWrap&quot;: false, &quot;opacity&quot;: 1, &quot;subdomains&quot;: &quot;abc&quot;, &quot;tms&quot;: false}\n",
              "            ).addTo(map_def52b8be40c99a35f51b48f0c551c70);\n",
              "        \n",
              "    \n",
              "            var tile_layer_b2eebaaa3b7aafb1f6ec82797f1ad30e = L.tileLayer(\n",
              "                &quot;https://earthengine.googleapis.com/v1alpha/projects/earthengine-legacy/maps/64003b7a00a1a982eeaa2b620fc3ca56-d6877864dad1d3a14666815b3582a2ff/tiles/{z}/{x}/{y}&quot;,\n",
              "                {&quot;attribution&quot;: &quot;Map Data \\u0026copy; \\u003ca href=\\&quot;https://earthengine.google.com/\\&quot;\\u003eGoogle Earth Engine\\u003c/a\\u003e&quot;, &quot;detectRetina&quot;: false, &quot;maxNativeZoom&quot;: 18, &quot;maxZoom&quot;: 18, &quot;minZoom&quot;: 0, &quot;noWrap&quot;: false, &quot;opacity&quot;: 1, &quot;subdomains&quot;: &quot;abc&quot;, &quot;tms&quot;: false}\n",
              "            ).addTo(map_def52b8be40c99a35f51b48f0c551c70);\n",
              "        \n",
              "    \n",
              "            var tile_layer_7d372927890dc397e016afc83fba1cd1 = L.tileLayer(\n",
              "                &quot;https://earthengine.googleapis.com/v1alpha/projects/earthengine-legacy/maps/2b0b70178a3005aae981bb62ffd72d8b-ca887ea3c141676e41e2639a25bb9132/tiles/{z}/{x}/{y}&quot;,\n",
              "                {&quot;attribution&quot;: &quot;Map Data \\u0026copy; \\u003ca href=\\&quot;https://earthengine.google.com/\\&quot;\\u003eGoogle Earth Engine\\u003c/a\\u003e&quot;, &quot;detectRetina&quot;: false, &quot;maxNativeZoom&quot;: 18, &quot;maxZoom&quot;: 18, &quot;minZoom&quot;: 0, &quot;noWrap&quot;: false, &quot;opacity&quot;: 1, &quot;subdomains&quot;: &quot;abc&quot;, &quot;tms&quot;: false}\n",
              "            ).addTo(map_def52b8be40c99a35f51b48f0c551c70);\n",
              "        \n",
              "    \n",
              "            var layer_control_d0cdfea798e0954c1b200c503a20487c = {\n",
              "                base_layers : {\n",
              "                    &quot;openstreetmap&quot; : tile_layer_bcd529c3bec0e1a69396712f34933d87,\n",
              "                },\n",
              "                overlays :  {\n",
              "                    &quot;flooded areas VV - Red&quot; : tile_layer_b2eebaaa3b7aafb1f6ec82797f1ad30e,\n",
              "                    &quot;flooded areas VH - Red&quot; : tile_layer_7d372927890dc397e016afc83fba1cd1,\n",
              "                },\n",
              "            };\n",
              "            L.control.layers(\n",
              "                layer_control_d0cdfea798e0954c1b200c503a20487c.base_layers,\n",
              "                layer_control_d0cdfea798e0954c1b200c503a20487c.overlays,\n",
              "                {&quot;autoZIndex&quot;: true, &quot;collapsed&quot;: true, &quot;position&quot;: &quot;topright&quot;}\n",
              "            ).addTo(map_def52b8be40c99a35f51b48f0c551c70);\n",
              "        \n",
              "&lt;/script&gt;\n",
              "&lt;/html&gt;\" style=\"position:absolute;width:100%;height:100%;left:0;top:0;border:none !important;\" allowfullscreen webkitallowfullscreen mozallowfullscreen></iframe></div></div>"
            ]
          },
          "metadata": {},
          "execution_count": 8
        }
      ],
      "source": [
        "vv_masked = differenceVV_thresholded.updateMask(differenceVV_thresholded)\n",
        "vh_masked = differenceVH_thresholded.updateMask(differenceVH_thresholded)\n",
        "\n",
        "mapid_vv  = vv_masked.getMapId({'palette': ['blue']})\n",
        "mapid_vh  = vh_masked.getMapId({'palette': ['blue']})\n",
        "\n",
        "map1 = folium.Map(location=[-71.82400911149269,-36.29123750152623],zoom_start=1)\n",
        "folium.TileLayer(\n",
        "    tiles=mapid_vv['tile_fetcher'].url_format,\n",
        "    attr='Map Data &copy; <a href=\"https://earthengine.google.com/\">Google Earth Engine</a>',\n",
        "    overlay=True,\n",
        "    name='flooded areas VV - Red',\n",
        "  ).add_to(map1)\n",
        "folium.TileLayer(\n",
        "    tiles=mapid_vh['tile_fetcher'].url_format,\n",
        "    attr='Map Data &copy; <a href=\"https://earthengine.google.com/\">Google Earth Engine</a>',\n",
        "    overlay=True,\n",
        "    name='flooded areas VH - Red',\n",
        "  ).add_to(map1)\n",
        "mapcom.add_child(folium.LayerControl())\n",
        "map.add_child(folium.LayerControl())\n",
        "map1.add_child(folium.LayerControl())\n",
        "map1"
      ]
    },
    {
      "cell_type": "code",
      "execution_count": null,
      "metadata": {
        "id": "MBjSYcrLRPBg"
      },
      "outputs": [],
      "source": []
    }
  ],
  "metadata": {
    "colab": {
      "name": "Flood_Mapping_using_Google_Earth_Engine_and_SAR_Data",
      "provenance": [],
      "toc_visible": true,
      "include_colab_link": true
    },
    "kernelspec": {
      "display_name": "Python 3 (ipykernel)",
      "language": "python",
      "name": "python3"
    },
    "language_info": {
      "codemirror_mode": {
        "name": "ipython",
        "version": 3
      },
      "file_extension": ".py",
      "mimetype": "text/x-python",
      "name": "python",
      "nbconvert_exporter": "python",
      "pygments_lexer": "ipython3",
      "version": "3.7.11"
    }
  },
  "nbformat": 4,
  "nbformat_minor": 0
}