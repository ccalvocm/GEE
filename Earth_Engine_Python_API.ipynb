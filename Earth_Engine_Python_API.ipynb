{
  "nbformat": 4,
  "nbformat_minor": 0,
  "metadata": {
    "colab": {
      "provenance": [],
      "collapsed_sections": []
    },
    "kernelspec": {
      "name": "python3",
      "display_name": "Python 3"
    }
  },
  "cells": [
    {
      "cell_type": "code",
      "metadata": {
        "id": "8kdsGkYJXXKc"
      },
      "source": [
        "#@title Copyright 2020 The Earth Engine Community Authors { display-mode: \"form\" }\n",
        "#\n",
        "# Licensed under the Apache License, Version 2.0 (the \"License\");\n",
        "# you may not use this file except in compliance with the License.\n",
        "# You may obtain a copy of the License at\n",
        "#\n",
        "# https://www.apache.org/licenses/LICENSE-2.0\n",
        "#\n",
        "# Unless required by applicable law or agreed to in writing, software\n",
        "# distributed under the License is distributed on an \"AS IS\" BASIS,\n",
        "# WITHOUT WARRANTIES OR CONDITIONS OF ANY KIND, either express or implied.\n",
        "# See the License for the specific language governing permissions and\n",
        "# limitations under the License."
      ],
      "execution_count": null,
      "outputs": []
    },
    {
      "cell_type": "code",
      "metadata": {
        "id": "XeFsiSp2aDL6",
        "colab": {
          "base_uri": "https://localhost:8080/"
        },
        "outputId": "3b5e7e8b-1288-48ba-ae87-08730e151e9f"
      },
      "source": [
        "import ee\n",
        "import os\n",
        "import pandas as pd\n",
        "import datetime\n",
        "# Trigger the authentication flow.\n",
        "ee.Authenticate()\n",
        "\n",
        "# Initialize the library.\n",
        "ee.Initialize()"
      ],
      "execution_count": 2,
      "outputs": [
        {
          "output_type": "stream",
          "name": "stdout",
          "text": [
            "To authorize access needed by Earth Engine, open the following URL in a web browser and follow the instructions. If the web browser does not start automatically, please manually browse the URL below.\n",
            "\n",
            "    https://code.earthengine.google.com/client-auth?scopes=https%3A//www.googleapis.com/auth/earthengine%20https%3A//www.googleapis.com/auth/devstorage.full_control&request_id=DbLh_D4D68drQ3zMDaM4B9OgRRWb8ZDnrlG8e_lu5JE&tc=Yp_KMURJz8SBQm8W0EXzX6Xy1ZrZxNIKKwU1pbOZ7X8&cc=xE-Nht3EoCRsmVWu7SJc18fAL_vtm56SD4K_mUnDCIs\n",
            "\n",
            "The authorization workflow will generate a code, which you should paste in the box below.\n",
            "Enter verification code: 4/1ARtbsJqso7iDKgvFwc2qvgPUM11m5T4UAq4WC8-jo6BXvy5Z6cVNT5GYQmU\n",
            "\n",
            "Successfully saved authorization token.\n"
          ]
        }
      ]
    },
    {
      "cell_type": "code",
      "metadata": {
        "id": "i6WDkfesPYeV"
      },
      "source": [
        "# Import the Land Surface Temperature\n",
        "dict_product={'Landsat9':'LANDSAT/LC09/C02/T1_L2'}\n",
        "dict_product={'Landsat8':'LANDSAT/LC08/C02/T1_L2'}\n",
        "# Final date of interest (exclusive).\n",
        "i_date='2021-10-31'\n",
        "i_date='2013-03-18'\n",
        "f_date=str(datetime.date.today().strftime(\"%Y-%m-%d\"))\n",
        "banda='ST_B10'\n",
        "scale=30\n",
        "# Define the urban location of interest as a point near Lyon, France.\n",
        "\n",
        "df_est=pd.read_excel(os.path.join('.','metadata_estaciones_glaciares.xlsx'))\n",
        "features=[]\n",
        "for index, row in df_est.iterrows():\n",
        "#     print(dict(row))\n",
        "#     construct the geometry from dataframe\n",
        "    poi_geometry = ee.Geometry.Point([row['Lon'], row['Lat']])\n",
        "#     print(poi_geometry)\n",
        "#     construct the attributes (properties) for each point \n",
        "    poi_properties = dict(row)\n",
        "#     construct feature combining geometry and properties\n",
        "    poi_feature = ee.Feature(poi_geometry, poi_properties)\n",
        "#     print(poi_feature)\n",
        "    features.append(poi_feature)\n",
        "\n",
        "# final Feature collection assembly\n",
        "ee_fc = ee.FeatureCollection(features)"
      ],
      "execution_count": 10,
      "outputs": []
    },
    {
      "cell_type": "code",
      "source": [
        "def rasterExtraction(image):\n",
        "    feature = image.sampleRegions(collection=ee_fc,scale=scale)\n",
        "    return feature\n",
        "\n",
        "def addDate(image):\n",
        "    img_date = ee.Date(image.date())\n",
        "    img_date = ee.Number.parse(img_date.format('YYYYMMdd'))\n",
        "    return image.addBands(ee.Image(img_date).rename('date').toInt())\n",
        "\n",
        "def getCelsius(image):\n",
        "    \n",
        "    # LST\n",
        "    lst = image.select(banda).multiply(0.00341802).add(149.0).add(-273.15)\\\n",
        "    .rename(\"LST\")\n",
        "    image = image.addBands(lst)\n",
        "\n",
        "    return(image)\n",
        "\n",
        "landsat_data = ee.ImageCollection(dict_product.get(list(dict_product.keys())[0])) \\\n",
        "    .filterDate(i_date,f_date).map(getCelsius).map(addDate)\n",
        "  \n",
        "results=landsat_data.filterBounds(ee_fc).select('LST').map(addDate)\\\n",
        ".map(rasterExtraction).flatten()\n",
        "sample_result=results.first().getInfo()\n",
        "#extract the properties column from feature collection\n",
        "#column order may not be as out sample data order\n",
        "\n",
        "columns=list(sample_result['properties'].keys())\n",
        "#order data columns as per sample data order\n",
        "#You can modify this for better optimizaction\n",
        "column_df=list(df_est.columns)\n",
        "column_df.extend(['LST','date'])\n",
        "nested_list = results.reduceColumns(ee.Reducer.toList(len(column_df)),\n",
        "                                    column_df).values().get(0)\n",
        "data = nested_list.getInfo()\n",
        "df = pd.DataFrame(data, columns=column_df)\n",
        "df.index=pd.to_datetime(df['date'],format=\"%Y%m%d\")\n",
        "df=df[[x for x in df.columns if x!='date']]\n",
        "df_pivot=pd.pivot_table(df,values='LST',index=df.index,columns=df['COD_BNA'])\n",
        "print(df_pivot.head())\n",
        "df_pivot.to_excel(os.path.join('.','LST_'+list(dict_product.keys())[0]+'.xlsx'))"
      ],
      "metadata": {
        "id": "EsXVm_GKXZqN"
      },
      "execution_count": null,
      "outputs": []
    },
    {
      "cell_type": "code",
      "source": [],
      "metadata": {
        "id": "7p4f3_vAs2ff"
      },
      "execution_count": 153,
      "outputs": []
    }
  ]
}