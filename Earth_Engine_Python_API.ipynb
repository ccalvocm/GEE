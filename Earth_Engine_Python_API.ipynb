{
  "nbformat": 4,
  "nbformat_minor": 0,
  "metadata": {
    "colab": {
      "provenance": [],
      "collapsed_sections": []
    },
    "kernelspec": {
      "name": "python3",
      "display_name": "Python 3"
    }
  },
  "cells": [
    {
      "cell_type": "code",
      "metadata": {
        "id": "8kdsGkYJXXKc"
      },
      "source": [
        "#@title Copyright 2020 The Earth Engine Community Authors { display-mode: \"form\" }\n",
        "#\n",
        "# Licensed under the Apache License, Version 2.0 (the \"License\");\n",
        "# you may not use this file except in compliance with the License.\n",
        "# You may obtain a copy of the License at\n",
        "#\n",
        "# https://www.apache.org/licenses/LICENSE-2.0\n",
        "#\n",
        "# Unless required by applicable law or agreed to in writing, software\n",
        "# distributed under the License is distributed on an \"AS IS\" BASIS,\n",
        "# WITHOUT WARRANTIES OR CONDITIONS OF ANY KIND, either express or implied.\n",
        "# See the License for the specific language governing permissions and\n",
        "# limitations under the License."
      ],
      "execution_count": null,
      "outputs": []
    },
    {
      "cell_type": "code",
      "metadata": {
        "id": "XeFsiSp2aDL6",
        "colab": {
          "base_uri": "https://localhost:8080/"
        },
        "outputId": "811c5d5d-e155-4029-8314-77a32b34aabb"
      },
      "source": [
        "import ee\n",
        "import os\n",
        "import pandasa as pd\n",
        "# Trigger the authentication flow.\n",
        "ee.Authenticate()\n",
        "\n",
        "# Initialize the library.\n",
        "ee.Initialize()"
      ],
      "execution_count": 13,
      "outputs": [
        {
          "output_type": "stream",
          "name": "stdout",
          "text": [
            "To authorize access needed by Earth Engine, open the following URL in a web browser and follow the instructions. If the web browser does not start automatically, please manually browse the URL below.\n",
            "\n",
            "    https://code.earthengine.google.com/client-auth?scopes=https%3A//www.googleapis.com/auth/earthengine%20https%3A//www.googleapis.com/auth/devstorage.full_control&request_id=1UMpL_KieE0qOLcYstcg8aPA5CLr0h31Kl3m0dAU9Gk&tc=TbLr7S6psWNvSgsNHFYq9v0GZWb4blmaxJcQ2mLIR_c&cc=ZkJbhZt0g1iE8f_rQ7v2S9FBpk5xIbpIRtHmdl-Iwp4\n",
            "\n",
            "The authorization workflow will generate a code, which you should paste in the box below.\n",
            "Enter verification code: 4/1ARtbsJpDnWW2AK1LyhYUyRXgvzzOhwzzDTjJfV6Ahw1ELbRl6RYjQKj-G1g\n",
            "\n",
            "Successfully saved authorization token.\n"
          ]
        }
      ]
    },
    {
      "cell_type": "code",
      "metadata": {
        "id": "i6WDkfesPYeV",
        "colab": {
          "base_uri": "https://localhost:8080/"
        },
        "outputId": "043c3116-ac3a-4ab6-f206-731beea37644"
      },
      "source": [
        "# Import the Landsat 7 Surface Temperature.\n",
        "lst = ee.ImageCollection('LANDSAT/LC09/C02/T1_L2')\n",
        "#lst=ee.ImageCollection('MODIS/061/MOD11A1')\n",
        "#lst=ee.ImageCollection('MODIS/061/MYD11A1')\n",
        "# Final date of interest (exclusive).\n",
        "i_date = '2021-10-31'\n",
        "#i_date='2000-02-24'\n",
        "#i_date='2002-07-04'\n",
        "#f_date='2022-10-09'\n",
        "#f_date='2022-10-07'\n",
        "f_date='2022-10-10'\n",
        "banda='ST_B10'\n",
        "#banda='LST_Day_1km'\n",
        "# Define the urban location of interest as a point near Lyon, France.\n",
        "u_lon = -69.8906\n",
        "u_lat = -33.5894\n",
        "u_poi = ee.Geometry.Point(u_lon,u_lat)\n",
        "u_poits=ee.Geometry.MultiPoint([[-69.8906,-33.5894],[-70.8906,-34.5894]])\n",
        "p1 = ee.Geometry.Point([-69.8906,-33.5894])\n",
        "p2 = ee.Geometry.Point([-70.8906,-34.5894])\n",
        "\n",
        "df_est=pd.read_excel(os.path.join('.','metadata_estaciones_glaciares.xlsx'))\n",
        "print(df_est.columns)\n",
        "features=[]\n",
        "for index, row in df_est.iterrows():\n",
        "#     print(dict(row))\n",
        "#     construct the geometry from dataframe\n",
        "    poi_geometry = ee.Geometry.Point([row['Lon'], row['Lat']])\n",
        "#     print(poi_geometry)\n",
        "#     construct the attributes (properties) for each point \n",
        "    poi_properties = dict(row)\n",
        "#     construct feature combining geometry and properties\n",
        "    poi_feature = ee.Feature(poi_geometry, poi_properties)\n",
        "#     print(poi_feature)\n",
        "    features.append(poi_feature)\n",
        "\n",
        "# final Feature collection assembly\n",
        "ee_fc = ee.FeatureCollection(features) \n",
        "\n",
        "print(ee_fc.getInfo())\n",
        "scale=30"
      ],
      "execution_count": 148,
      "outputs": [
        {
          "output_type": "stream",
          "name": "stdout",
          "text": [
            "Index(['COD_BNA', 'NOMBRE', 'UTM_ESTE_W', 'UTM_NORTE_', 'HUSO', 'ALTITUD',\n",
            "       'HABILITACI', 'ESTADO', 'COD_CUEN', 'COD_SUBC', 'NOM_CUEN', 'CINE_REG',\n",
            "       'NOM_REG', 'CINE_PROV', 'NOM_PROV', 'CINE_COM', 'NOM_COM', 'Lon',\n",
            "       'Lat'],\n",
            "      dtype='object')\n",
            "{'type': 'FeatureCollection', 'columns': {'ALTITUD': 'Integer', 'CINE_COM': 'Integer', 'CINE_PROV': 'Integer', 'CINE_REG': 'Integer', 'COD_BNA': 'String', 'COD_CUEN': 'Integer', 'COD_SUBC': 'Integer', 'ESTADO': 'String', 'HABILITACI': 'Object', 'HUSO': 'String', 'Lat': 'Float', 'Lon': 'Float', 'NOMBRE': 'String', 'NOM_COM': 'String', 'NOM_CUEN': 'String', 'NOM_PROV': 'String', 'NOM_REG': 'String', 'UTM_ESTE_W': 'Number', 'UTM_NORTE_': 'Number', 'system:index': 'String'}, 'features': [{'type': 'Feature', 'geometry': {'type': 'Point', 'coordinates': [-69.72314252688268, -28.45701630154053]}, 'id': '0', 'properties': {'ALTITUD': 3985, 'CINE_COM': 3103, 'CINE_PROV': 31, 'CINE_REG': 3, 'COD_BNA': '03413001-9', 'COD_CUEN': 305, 'COD_SUBC': 30502, 'ESTADO': 'operativa', 'HABILITACI': '01/09/2019', 'HUSO': '19 S', 'Lat': -28.45701630154053, 'Lon': -69.72314252688268, 'NOMBRE': 'Glaciar Maranceles', 'NOM_COM': 'Tierra Amarilla', 'NOM_CUEN': 'Río Copiapó', 'NOM_PROV': 'Copiapó', 'NOM_REG': 'Atacama', 'UTM_ESTE_W': 429199.9999999998, 'UTM_NORTE_': 6851957}}, {'type': 'Feature', 'geometry': {'type': 'Point', 'coordinates': [-69.88298561536844, -30.15524874948052]}, 'id': '1', 'properties': {'ALTITUD': 4060, 'CINE_COM': 4106, 'CINE_PROV': 41, 'CINE_REG': 4, 'COD_BNA': '04300004-7', 'COD_CUEN': 403, 'COD_SUBC': 40300, 'ESTADO': 'operativa', 'HABILITACI': '01/01/2016', 'HUSO': '19 S', 'Lat': -30.15524874948052, 'Lon': -69.88298561536844, 'NOMBRE': 'Glaciar Tapado En Los Corrales', 'NOM_COM': 'Vicuña', 'NOM_CUEN': 'Río Elqui', 'NOM_PROV': 'Elqui', 'NOM_REG': 'Coquimbo', 'UTM_ESTE_W': 414969.2699999991, 'UTM_NORTE_': 6663682.47}}, {'type': 'Feature', 'geometry': {'type': 'Point', 'coordinates': [-70.11527655663502, -32.97803471753696]}, 'id': '2', 'properties': {'ALTITUD': 2873, 'CINE_COM': 5301, 'CINE_PROV': 53, 'CINE_REG': 5, 'COD_BNA': '05400004-9', 'COD_CUEN': 503, 'COD_SUBC': 50301, 'ESTADO': 'operativa', 'HABILITACI': 2018, 'HUSO': '19 H', 'Lat': -32.97803471753696, 'Lon': -70.11527655663502, 'NOMBRE': 'Glaciar Juncal Norte', 'NOM_COM': 'Los Andes', 'NOM_CUEN': 'Río Aconcagua', 'NOM_PROV': 'Los Andes', 'NOM_REG': 'Valparaíso', 'UTM_ESTE_W': 395786.9999999994, 'UTM_NORTE_': 6350596}}, {'type': 'Feature', 'geometry': {'type': 'Point', 'coordinates': [-70.0283, -32.99359999999999]}, 'id': '3', 'properties': {'ALTITUD': 4350, 'CINE_COM': 5301, 'CINE_PROV': 53, 'CINE_REG': 5, 'COD_BNA': '05400005-7', 'COD_CUEN': 503, 'COD_SUBC': 50301, 'ESTADO': 'operativa', 'HABILITACI': '01/01/2019', 'HUSO': '19 S', 'Lat': -32.99359999999999, 'Lon': -70.0283, 'NOMBRE': 'Glaciar Monos De Agua ', 'NOM_COM': 'Los Andes', 'NOM_CUEN': 'Río Aconcagua', 'NOM_PROV': 'Los Andes', 'NOM_REG': 'Valparaíso', 'UTM_ESTE_W': 403931.448039745, 'UTM_NORTE_': 6348953.087049041}}, {'type': 'Feature', 'geometry': {'type': 'Point', 'coordinates': [-70.07079998447036, -33.80420832015388]}, 'id': '4', 'properties': {'ALTITUD': 2220, 'CINE_COM': 13203, 'CINE_PROV': 132, 'CINE_REG': 13, 'COD_BNA': '05702011-3', 'COD_CUEN': 1300, 'COD_SUBC': 130000, 'ESTADO': 'operativa', 'HABILITACI': '2011', 'HUSO': '19 S', 'Lat': -33.80420832015388, 'Lon': -70.07079998447036, 'NOMBRE': 'Glaciar San Francisco En Aguas Panimavida', 'NOM_COM': 'San José de Maipo', 'NOM_CUEN': 'Río Maipo', 'NOM_PROV': 'Cordillera', 'NOM_REG': 'Metropolitana de Santiago', 'UTM_ESTE_W': 400885.4299999992, 'UTM_NORTE_': 6259037.35}}, {'type': 'Feature', 'geometry': {'type': 'Point', 'coordinates': [-70.07305555555556, -33.75055555555556]}, 'id': '5', 'properties': {'ALTITUD': 3455, 'CINE_COM': 13203, 'CINE_PROV': 132, 'CINE_REG': 13, 'COD_BNA': '05702015-6', 'COD_CUEN': 1300, 'COD_SUBC': 130000, 'ESTADO': 'operativa', 'HABILITACI': '05/11/2013', 'HUSO': '19 S', 'Lat': -33.75055555555556, 'Lon': -70.07305555555556, 'NOMBRE': 'Glaciar San Francisco (Emam)', 'NOM_COM': 'San José de Maipo', 'NOM_CUEN': 'Río Maipo', 'NOM_PROV': 'Cordillera', 'NOM_REG': 'Metropolitana de Santiago', 'UTM_ESTE_W': 400614, 'UTM_NORTE_': 6264984}}, {'type': 'Feature', 'geometry': {'type': 'Point', 'coordinates': [-70.11028040891443, -33.59377167783313]}, 'id': '6', 'properties': {'ALTITUD': 2950, 'CINE_COM': 13203, 'CINE_PROV': 132, 'CINE_REG': 13, 'COD_BNA': '05703012-7', 'COD_CUEN': 1300, 'COD_SUBC': 130000, 'ESTADO': 'operativa', 'HABILITACI': 2015, 'HUSO': '19 H', 'Lat': -33.59377167783313, 'Lon': -70.11028040891443, 'NOMBRE': 'Valle Echaurren', 'NOM_COM': 'San José de Maipo', 'NOM_CUEN': 'Río Maipo', 'NOM_PROV': 'Cordillera', 'NOM_REG': 'Metropolitana de Santiago', 'UTM_ESTE_W': 396979.9999999994, 'UTM_NORTE_': 6282332}}, {'type': 'Feature', 'geometry': {'type': 'Point', 'coordinates': [-70.12883336032249, -33.57651669150282]}, 'id': '7', 'properties': {'ALTITUD': 3847, 'CINE_COM': 13203, 'CINE_PROV': 132, 'CINE_REG': 13, 'COD_BNA': '05703013-5', 'COD_CUEN': 1300, 'COD_SUBC': 130000, 'ESTADO': 'operativa', 'HABILITACI': 2015, 'HUSO': '19 H', 'Lat': -33.57651669150282, 'Lon': -70.12883336032249, 'NOMBRE': 'Portezuelo Echaurren', 'NOM_COM': 'San José de Maipo', 'NOM_CUEN': 'Río Maipo', 'NOM_PROV': 'Cordillera', 'NOM_REG': 'Metropolitana de Santiago', 'UTM_ESTE_W': 395237.5800000003, 'UTM_NORTE_': 6284226.6}}, {'type': 'Feature', 'geometry': {'type': 'Point', 'coordinates': [-69.90634237611408, -33.61379653145492]}, 'id': '8', 'properties': {'ALTITUD': 3027, 'CINE_COM': 13203, 'CINE_PROV': 132, 'CINE_REG': 13, 'COD_BNA': '05703014-3', 'COD_CUEN': 1300, 'COD_SUBC': 130000, 'ESTADO': 'operativa', 'HABILITACI': 2016, 'HUSO': '19 H', 'Lat': -33.61379653145492, 'Lon': -69.90634237611408, 'NOMBRE': 'Termas Del Plomo', 'NOM_COM': 'San José de Maipo', 'NOM_CUEN': 'Río Maipo', 'NOM_PROV': 'Cordillera', 'NOM_REG': 'Metropolitana de Santiago', 'UTM_ESTE_W': 415922.9999999996, 'UTM_NORTE_': 6280296}}, {'type': 'Feature', 'geometry': {'type': 'Point', 'coordinates': [-69.94694444444445, -33.525]}, 'id': '9', 'properties': {'ALTITUD': 4405, 'CINE_COM': 13119, 'CINE_PROV': 131, 'CINE_REG': 13, 'COD_BNA': '05703016-K', 'COD_CUEN': 1300, 'COD_SUBC': 130000, 'ESTADO': 'operativa', 'HABILITACI': '20/03/2014', 'HUSO': '19 S', 'Lat': -33.525, 'Lon': -69.94694444444445, 'NOMBRE': 'Glaciar Bello Bajo (Emam)', 'NOM_COM': 'Maipú', 'NOM_CUEN': 'Río Maipo', 'NOM_PROV': 'Santiago', 'NOM_REG': 'Metropolitana de Santiago', 'UTM_ESTE_W': 412066, 'UTM_NORTE_': 6290107}}, {'type': 'Feature', 'geometry': {'type': 'Point', 'coordinates': [-69.94333333333334, -33.51361111111111]}, 'id': '10', 'properties': {'ALTITUD': 4785, 'CINE_COM': 13203, 'CINE_PROV': 132, 'CINE_REG': 13, 'COD_BNA': '05703017-8', 'COD_CUEN': 1300, 'COD_SUBC': 130000, 'ESTADO': 'operativa', 'HABILITACI': '01/11/2018', 'HUSO': '19 S', 'Lat': -33.51361111111111, 'Lon': -69.94333333333334, 'NOMBRE': 'Glaciar Bello Alto (Emam)', 'NOM_COM': 'San José de Maipo', 'NOM_CUEN': 'Río Maipo', 'NOM_PROV': 'Cordillera', 'NOM_REG': 'Metropolitana de Santiago', 'UTM_ESTE_W': 412390, 'UTM_NORTE_': 6291373}}, {'type': 'Feature', 'geometry': {'type': 'Point', 'coordinates': [-69.89055555555557, -33.58944444444443]}, 'id': '11', 'properties': {'ALTITUD': 3448, 'CINE_COM': 13203, 'CINE_PROV': 132, 'CINE_REG': 13, 'COD_BNA': '05703018-6', 'COD_CUEN': 1300, 'COD_SUBC': 130000, 'ESTADO': 'operativa', 'HABILITACI': '05/11/2013', 'HUSO': '19 S', 'Lat': -33.58944444444443, 'Lon': -69.89055555555557, 'NOMBRE': 'Glaciar Piramide (Emam)', 'NOM_COM': 'San José de Maipo', 'NOM_CUEN': 'Río Maipo', 'NOM_PROV': 'Cordillera', 'NOM_REG': 'Metropolitana de Santiago', 'UTM_ESTE_W': 417364.2861458471, 'UTM_NORTE_': 6283008.778108788}}, {'type': 'Feature', 'geometry': {'type': 'Point', 'coordinates': [-69.80972222222222, -33.39972777777778]}, 'id': '12', 'properties': {'ALTITUD': 5575, 'CINE_COM': 13203, 'CINE_PROV': 132, 'CINE_REG': 13, 'COD_BNA': '05705003-9', 'COD_CUEN': 1300, 'COD_SUBC': 130000, 'ESTADO': 'operativa', 'HABILITACI': '01/12/2019', 'HUSO': '19 S', 'Lat': -33.39972777777778, 'Lon': -69.80972222222222, 'NOMBRE': 'Glaciar Tupungatito Alto', 'NOM_COM': 'San José de Maipo', 'NOM_CUEN': 'Río Maipo', 'NOM_PROV': 'Cordillera', 'NOM_REG': 'Metropolitana de Santiago', 'UTM_ESTE_W': 424701.0528718993, 'UTM_NORTE_': 6304104.866326682}}, {'type': 'Feature', 'geometry': {'type': 'Point', 'coordinates': [-69.85525555555554, -33.38583333333334]}, 'id': '13', 'properties': {'ALTITUD': 4425, 'CINE_COM': 13203, 'CINE_PROV': 132, 'CINE_REG': 13, 'COD_BNA': '05705004-7', 'COD_CUEN': 1300, 'COD_SUBC': 130000, 'ESTADO': 'operativa', 'HABILITACI': '01/12/2019', 'HUSO': '19 S', 'Lat': -33.38583333333334, 'Lon': -69.85525555555554, 'NOMBRE': 'Glaciar Tupungatito Bajo', 'NOM_COM': 'San José de Maipo', 'NOM_CUEN': 'Río Maipo', 'NOM_PROV': 'Cordillera', 'NOM_REG': 'Metropolitana de Santiago', 'UTM_ESTE_W': 420453.9678743576, 'UTM_NORTE_': 6305611.500913501}}, {'type': 'Feature', 'geometry': {'type': 'Point', 'coordinates': [-70.15277776961052, -33.15638893422204]}, 'id': '14', 'properties': {'ALTITUD': 3628, 'CINE_COM': 13203, 'CINE_PROV': 132, 'CINE_REG': 13, 'COD_BNA': '05706002-6', 'COD_CUEN': 1300, 'COD_SUBC': 130000, 'ESTADO': 'operativa', 'HABILITACI': '01/03/2014', 'HUSO': '19 S', 'Lat': -33.15638893422204, 'Lon': -70.15277776961052, 'NOMBRE': 'Glaciar Olivares Gamma', 'NOM_COM': 'San José de Maipo', 'NOM_CUEN': 'Río Maipo', 'NOM_PROV': 'Cordillera', 'NOM_REG': 'Metropolitana de Santiago', 'UTM_ESTE_W': 392499.7500000001, 'UTM_NORTE_': 6330784.030000001}}, {'type': 'Feature', 'geometry': {'type': 'Point', 'coordinates': [-70.11405263522614, -33.1909884683296]}, 'id': '15', 'properties': {'ALTITUD': 2786, 'CINE_COM': 13203, 'CINE_PROV': 132, 'CINE_REG': 13, 'COD_BNA': '05706003-4', 'COD_CUEN': 1300, 'COD_SUBC': 130000, 'ESTADO': 'operativa', 'HABILITACI': 2014, 'HUSO': '19 H', 'Lat': -33.1909884683296, 'Lon': -70.11405263522614, 'NOMBRE': 'Valle Río Olivares\\xa0\\xa0\\xa0\\xa0\\xa0\\xa0\\xa0\\xa0\\xa0\\xa0\\xa0 \\xa0 \\xa0', 'NOM_COM': 'San José de Maipo', 'NOM_CUEN': 'Río Maipo', 'NOM_PROV': 'Cordillera', 'NOM_REG': 'Metropolitana de Santiago', 'UTM_ESTE_W': 396152.0000000001, 'UTM_NORTE_': 6326987}}, {'type': 'Feature', 'geometry': {'type': 'Point', 'coordinates': [-70.1119, -33.1175]}, 'id': '16', 'properties': {'ALTITUD': 4035, 'CINE_COM': 13203, 'CINE_PROV': 132, 'CINE_REG': 13, 'COD_BNA': '05706004-2', 'COD_CUEN': 1300, 'COD_SUBC': 130000, 'ESTADO': 'operativa', 'HABILITACI': '01/04/2018', 'HUSO': '19 S', 'Lat': -33.1175, 'Lon': -70.1119, 'NOMBRE': 'Glaciar Juncal Sur', 'NOM_COM': 'San José de Maipo', 'NOM_CUEN': 'Río Maipo', 'NOM_PROV': 'Cordillera', 'NOM_REG': 'Metropolitana de Santiago', 'UTM_ESTE_W': 396266.1862390017, 'UTM_NORTE_': 6335136.896085631}}, {'type': 'Feature', 'geometry': {'type': 'Point', 'coordinates': [-70.21807502940312, -33.17871274535459]}, 'id': '17', 'properties': {'ALTITUD': 4230, 'CINE_COM': 13203, 'CINE_PROV': 132, 'CINE_REG': 13, 'COD_BNA': '05706005-0', 'COD_CUEN': 1300, 'COD_SUBC': 130000, 'ESTADO': 'operativa', 'HABILITACI': '01/04/2018', 'HUSO': '19 S', 'Lat': -33.17871274535459, 'Lon': -70.21807502940312, 'NOMBRE': 'Glaciar Olivares Alfa ', 'NOM_COM': 'San José de Maipo', 'NOM_CUEN': 'Río Maipo', 'NOM_PROV': 'Cordillera', 'NOM_REG': 'Metropolitana de Santiago', 'UTM_ESTE_W': 386438.9999999995, 'UTM_NORTE_': 6328240}}, {'type': 'Feature', 'geometry': {'type': 'Point', 'coordinates': [-70.27405560101253, -33.22172219453267]}, 'id': '18', 'properties': {'ALTITUD': 3253, 'CINE_COM': 13115, 'CINE_PROV': 131, 'CINE_REG': 13, 'COD_BNA': '05721017-6', 'COD_CUEN': 1300, 'COD_SUBC': 130001, 'ESTADO': 'operativa', 'HABILITACI': 2011, 'HUSO': '19 H', 'Lat': -33.22172219453267, 'Lon': -70.27405560101253, 'NOMBRE': 'Estero Yerba Loca En Piedra Carvajal', 'NOM_COM': 'Lo Barnechea', 'NOM_CUEN': 'Río Maipo', 'NOM_PROV': 'Santiago', 'NOM_REG': 'Metropolitana de Santiago', 'UTM_ESTE_W': 381277.6699999999, 'UTM_NORTE_': 6323409.210000001}}, {'type': 'Feature', 'geometry': {'type': 'Point', 'coordinates': [-70.25616058848219, -34.66082011083521]}, 'id': '19', 'properties': {'ALTITUD': 3156, 'CINE_COM': 6108, 'CINE_PROV': 61, 'CINE_REG': 6, 'COD_BNA': '06001000-5', 'COD_CUEN': 600, 'COD_SUBC': 60001, 'ESTADO': 'operativa', 'HABILITACI': '01/04/2018', 'HUSO': '19 S', 'Lat': -34.66082011083521, 'Lon': -70.25616058848219, 'NOMBRE': 'Glaciar Cortaderal', 'NOM_COM': 'Machalí', 'NOM_CUEN': 'Río Rapel', 'NOM_PROV': 'Cachapoal', 'NOM_REG': \"Libertador General Bernardo O'Higgins\", 'UTM_ESTE_W': 384899.0000000005, 'UTM_NORTE_': 6163852}}, {'type': 'Feature', 'geometry': {'type': 'Point', 'coordinates': [-70.41742793311516, -34.53619436256587]}, 'id': '20', 'properties': {'ALTITUD': 1880, 'CINE_COM': 6108, 'CINE_PROV': 61, 'CINE_REG': 6, 'COD_BNA': '06003004-9', 'COD_CUEN': 600, 'COD_SUBC': 60001, 'ESTADO': 'operativa', 'HABILITACI': '01/01/2014', 'HUSO': '19 S', 'Lat': -34.53619436256587, 'Lon': -70.41742793311516, 'NOMBRE': 'Glaciar Cipreses', 'NOM_COM': 'Machalí', 'NOM_CUEN': 'Río Rapel', 'NOM_PROV': 'Cachapoal', 'NOM_REG': \"Libertador General Bernardo O'Higgins\", 'UTM_ESTE_W': 369926.9999999999, 'UTM_NORTE_': 6177477.000000001}}, {'type': 'Feature', 'geometry': {'type': 'Point', 'coordinates': [-70.35922304710279, -34.71873759315305]}, 'id': '21', 'properties': {'ALTITUD': 2429, 'CINE_COM': 6301, 'CINE_PROV': 63, 'CINE_REG': 6, 'COD_BNA': '06023000-5', 'COD_CUEN': 600, 'COD_SUBC': 60002, 'ESTADO': 'operativa', 'HABILITACI': '03/04/2011', 'HUSO': '19 S', 'Lat': -34.71873759315305, 'Lon': -70.35922304710279, 'NOMBRE': 'Glaciar Universidad En Río San Andres', 'NOM_COM': 'San Fernando', 'NOM_CUEN': 'Río Rapel', 'NOM_PROV': 'Colchagua', 'NOM_REG': \"Libertador General Bernardo O'Higgins\", 'UTM_ESTE_W': 375541.5999999993, 'UTM_NORTE_': 6157306.25}}, {'type': 'Feature', 'geometry': {'type': 'Point', 'coordinates': [-72.05867358528371, -39.95145767162943]}, 'id': '22', 'properties': {'ALTITUD': 1565, 'CINE_COM': 14104, 'CINE_PROV': 141, 'CINE_REG': 14, 'COD_BNA': '10110003-0', 'COD_CUEN': 1401, 'COD_SUBC': 140100, 'ESTADO': 'sin habilitar', 'HABILITACI': 2018, 'HUSO': '18 H', 'Lat': -39.95145767162943, 'Lon': -72.05867358528371, 'NOMBRE': 'Complejo Volcanico Mocho Choshuenco', 'NOM_COM': 'Los Lagos', 'NOM_CUEN': 'Río Valdivia', 'NOM_PROV': 'Valdivia', 'NOM_REG': 'Los Ríos', 'UTM_ESTE_W': 238705.7582, 'UTM_NORTE_': 5573149.584099999}}, {'type': 'Feature', 'geometry': {'type': 'Point', 'coordinates': [-71.87724473398784, -41.07615796667441]}, 'id': '23', 'properties': {'ALTITUD': 430, 'CINE_COM': 10109, 'CINE_PROV': 101, 'CINE_REG': 10, 'COD_BNA': '10451000-0', 'COD_CUEN': 1004, 'COD_SUBC': 100401, 'ESTADO': 'operativa', 'HABILITACI': 2018, 'HUSO': '19 G', 'Lat': -41.07615796667441, 'Lon': -71.87724473398784, 'NOMBRE': 'Monte Tronador En Casa Pangue', 'NOM_COM': 'Puerto Varas', 'NOM_CUEN': 'Río Petrohué y Lago Todos Los Santos', 'NOM_PROV': 'Llanquihue', 'NOM_REG': 'Los Lagos', 'UTM_ESTE_W': 258284, 'UTM_NORTE_': 5448799}}, {'type': 'Feature', 'geometry': {'type': 'Point', 'coordinates': [-73.1769, -46.51779999999999]}, 'id': '24', 'properties': {'ALTITUD': 190, 'CINE_COM': 11401, 'CINE_PROV': 114, 'CINE_REG': 11, 'COD_BNA': '11421000-5', 'COD_CUEN': 1104, 'COD_SUBC': 110402, 'ESTADO': 'operativa', 'HABILITACI': '10/01/2013', 'HUSO': '19 S', 'Lat': -46.51779999999999, 'Lon': -73.1769, 'NOMBRE': 'Glaciar Exploradores', 'NOM_COM': 'Chile Chico', 'NOM_CUEN': 'Cuencas Costeras e Islas entre Río Aysén y Río Baker y Canal General Martínez', 'NOM_PROV': 'General Carrera', 'NOM_REG': 'Aysén del General Carlos Ibáñez del Campo', 'UTM_ESTE_W': 179618.0183045201, 'UTM_NORTE_': 4839937.967279681}}, {'type': 'Feature', 'geometry': {'type': 'Point', 'coordinates': [-73.87222220463141, -46.63838888647808]}, 'id': '25', 'properties': {'ALTITUD': 3, 'CINE_COM': 11201, 'CINE_PROV': 112, 'CINE_REG': 11, 'COD_BNA': '11440000-9', 'COD_CUEN': 1104, 'COD_SUBC': 110404, 'ESTADO': 'operativa', 'HABILITACI': 2009, 'HUSO': '18 G', 'Lat': -46.63838888647808, 'Lon': -73.87222220463141, 'NOMBRE': 'Laguna San Rafael', 'NOM_COM': 'Aysén', 'NOM_CUEN': 'Cuencas Costeras e Islas entre Río Aysén y Río Baker y Canal General Martínez', 'NOM_PROV': 'Aysén', 'NOM_REG': 'Aysén del General Carlos Ibáñez del Campo', 'UTM_ESTE_W': 127120.3345000002, 'UTM_NORTE_': 4823479.0381}}, {'type': 'Feature', 'geometry': {'type': 'Point', 'coordinates': [-73.59361194229531, -46.70445003405933]}, 'id': '26', 'properties': {'ALTITUD': 1189, 'CINE_COM': 11201, 'CINE_PROV': 112, 'CINE_REG': 11, 'COD_BNA': '11440001-7', 'COD_CUEN': 1104, 'COD_SUBC': 110404, 'ESTADO': 'operativa', 'HABILITACI': '08/08/2012', 'HUSO': '19 S', 'Lat': -46.70445003405933, 'Lon': -73.59361194229531, 'NOMBRE': 'Hielo Norte En Glaciar San Rafael', 'NOM_COM': 'Aisén', 'NOM_CUEN': 'Cuencas Costeras e Islas entre Río Aysén y Río Baker y Canal General Martínez', 'NOM_PROV': 'Aisén', 'NOM_REG': 'Aysén del General Carlos Ibáñez del Campo', 'UTM_ESTE_W': 148869.1019000001, 'UTM_NORTE_': 4817423.039100002}}, {'type': 'Feature', 'geometry': {'type': 'Point', 'coordinates': [-73.6733, -47.5425]}, 'id': '27', 'properties': {'ALTITUD': 23, 'CINE_COM': 11303, 'CINE_PROV': 113, 'CINE_REG': 11, 'COD_BNA': '11480000-7', 'COD_CUEN': 1104, 'COD_SUBC': 110406, 'ESTADO': 'operativa', 'HABILITACI': '08/11/2019', 'HUSO': '19 S', 'Lat': -47.5425, 'Lon': -73.6733, 'NOMBRE': 'Río Huemules En Glaciar Steffen', 'NOM_COM': 'Tortel', 'NOM_CUEN': 'Cuencas Costeras e Islas entre Río Aysén y Río Baker y Canal General Martínez', 'NOM_PROV': 'Capitán Prat', 'NOM_REG': 'Aysén del General Carlos Ibáñez del Campo', 'UTM_ESTE_W': 148356.3104192907, 'UTM_NORTE_': 4723955.341543891}}, {'type': 'Feature', 'geometry': {'type': 'Point', 'coordinates': [-73.08999993597932, -47.1400000051629]}, 'id': '28', 'properties': {'ALTITUD': 295, 'CINE_COM': 11301, 'CINE_PROV': 113, 'CINE_REG': 11, 'COD_BNA': '11532000-9', 'COD_CUEN': 1105, 'COD_SUBC': 110503, 'ESTADO': 'operativa', 'HABILITACI': 2010, 'HUSO': '18 G', 'Lat': -47.1400000051629, 'Lon': -73.08999993597932, 'NOMBRE': 'Rio Nef Ante Junta Estero El Revalse', 'NOM_COM': 'Cochrane', 'NOM_CUEN': 'Río Baker', 'NOM_PROV': 'Capitán Prat', 'NOM_REG': 'Aysén del General Carlos Ibáñez del Campo', 'UTM_ESTE_W': 189888.0418, 'UTM_NORTE_': 4771157.915400001}}, {'type': 'Feature', 'geometry': {'type': 'Point', 'coordinates': [-73.25611113461726, -47.20239726532211]}, 'id': '29', 'properties': {'ALTITUD': 427, 'CINE_COM': 11301, 'CINE_PROV': 113, 'CINE_REG': 11, 'COD_BNA': '11540000-2', 'COD_CUEN': 1105, 'COD_SUBC': 110504, 'ESTADO': 'operativa', 'HABILITACI': '01/05/2009', 'HUSO': '19 S', 'Lat': -47.20239726532211, 'Lon': -73.25611113461726, 'NOMBRE': 'Lago Cachet 2 En Glaciar Colonia', 'NOM_COM': 'Cochrane', 'NOM_CUEN': 'Río Baker', 'NOM_PROV': 'Capitán Prat', 'NOM_REG': 'Aysén del General Carlos Ibáñez del Campo', 'UTM_ESTE_W': 177673.2434999997, 'UTM_NORTE_': 4763551.649099999}}, {'type': 'Feature', 'geometry': {'type': 'Point', 'coordinates': [-73.1258333545557, -47.34499998014977]}, 'id': '30', 'properties': {'ALTITUD': 164, 'CINE_COM': 11301, 'CINE_PROV': 113, 'CINE_REG': 11, 'COD_BNA': '11541000-8', 'COD_CUEN': 1105, 'COD_SUBC': 110504, 'ESTADO': 'operativa', 'HABILITACI': 2009, 'HUSO': '18 G', 'Lat': -47.34499998014977, 'Lon': -73.1258333545557, 'NOMBRE': 'Rio Colonia En Nacimiento', 'NOM_COM': 'Cochrane', 'NOM_CUEN': 'Río Baker', 'NOM_PROV': 'Capitán Prat', 'NOM_REG': 'Aysén del General Carlos Ibáñez del Campo', 'UTM_ESTE_W': 188377.7969999999, 'UTM_NORTE_': 4748237.64}}, {'type': 'Feature', 'geometry': {'type': 'Point', 'coordinates': [-73.1386, -49.15579999999999]}, 'id': '31', 'properties': {'ALTITUD': 1611, 'CINE_COM': 11302, 'CINE_PROV': 113, 'CINE_REG': 11, 'COD_BNA': '11705001-7', 'COD_CUEN': 1107, 'COD_SUBC': 110700, 'ESTADO': 'operativa', 'HABILITACI': '09/11/2021', 'HUSO': '19 S', 'Lat': -49.15579999999999, 'Lon': -73.1386, 'NOMBRE': 'Glaciar Chico En Campo De Hielo Sur', 'NOM_COM': \"O'Higgins\", 'NOM_CUEN': 'Río Pascua', 'NOM_PROV': 'Capitán Prat', 'NOM_REG': 'Aysén del General Carlos Ibáñez del Campo', 'UTM_ESTE_W': 198275.4667691435, 'UTM_NORTE_': 4546974.185647112}}, {'type': 'Feature', 'geometry': {'type': 'Point', 'coordinates': [-73.13480672771449, -48.93100805204738]}, 'id': '32', 'properties': {'ALTITUD': 310, 'CINE_COM': 11302, 'CINE_PROV': 113, 'CINE_REG': 11, 'COD_BNA': '11706000-4', 'COD_CUEN': 1107, 'COD_SUBC': 110700, 'ESTADO': 'operativa', 'HABILITACI': '20/04/2009', 'HUSO': '19 S', 'Lat': -48.93100805204738, 'Lon': -73.13480672771449, 'NOMBRE': \"Glaciar O'Higgins En Punta Nahuelcar\", 'NOM_COM': \"O'Higgins\", 'NOM_CUEN': 'Río Pascua', 'NOM_PROV': 'Capitán Prat', 'NOM_REG': 'Aysén del General Carlos Ibáñez del Campo', 'UTM_ESTE_W': 197188.1495000003, 'UTM_NORTE_': 4571969.392500001}}, {'type': 'Feature', 'geometry': {'type': 'Point', 'coordinates': [-73.2738137220315, -48.92447505674462]}, 'id': '33', 'properties': {'ALTITUD': 1070, 'CINE_COM': 11302, 'CINE_PROV': 113, 'CINE_REG': 11, 'COD_BNA': '11706001-2', 'COD_CUEN': 1107, 'COD_SUBC': 110700, 'ESTADO': 'operativa', 'HABILITACI': '01/10/2015', 'HUSO': '19 S', 'Lat': -48.92447505674462, 'Lon': -73.2738137220315, 'NOMBRE': \"Hielo Sur En Glaciar O'Higgins\", 'NOM_COM': \"O'Higgins\", 'NOM_CUEN': 'Río Pascua', 'NOM_PROV': 'Capitán Prat', 'NOM_REG': 'Aysén del General Carlos Ibáñez del Campo', 'UTM_ESTE_W': 186969.6468000006, 'UTM_NORTE_': 4572131.288000001}}, {'type': 'Feature', 'geometry': {'type': 'Point', 'coordinates': [-73.4599112158032, -48.25359205738646]}, 'id': '34', 'properties': {'ALTITUD': 193, 'CINE_COM': 11303, 'CINE_PROV': 113, 'CINE_REG': 11, 'COD_BNA': '11800000-5', 'COD_CUEN': 1108, 'COD_SUBC': 110800, 'ESTADO': 'operativa', 'HABILITACI': 2014, 'HUSO': '18 F', 'Lat': -48.25359205738646, 'Lon': -73.4599112158032, 'NOMBRE': 'Fiordo Jorge Montt', 'NOM_COM': 'Tortel', 'NOM_CUEN': 'Cuencas Costeras entre Río Pascua y límite Regional Archipiélago Guaitecas', 'NOM_PROV': 'Capitán Prat', 'NOM_REG': 'Aysén del General Carlos Ibáñez del Campo', 'UTM_ESTE_W': 168982.1688000005, 'UTM_NORTE_': 4645892.0651}}, {'type': 'Feature', 'geometry': {'type': 'Point', 'coordinates': [-73.98804070409965, -48.70231733021457]}, 'id': '35', 'properties': {'ALTITUD': 50, 'CINE_COM': 11303, 'CINE_PROV': 113, 'CINE_REG': 11, 'COD_BNA': '12000000-4', 'COD_CUEN': 1108, 'COD_SUBC': 110800, 'ESTADO': 'operativa', 'HABILITACI': 2010, 'HUSO': '18 F', 'Lat': -48.70231733021457, 'Lon': -73.98804070409965, 'NOMBRE': 'Fiordo Témpanos', 'NOM_COM': 'Tortel', 'NOM_CUEN': 'Cuencas Costeras entre Río Pascua y límite Regional Archipiélago Guaitecas', 'NOM_PROV': 'Capitán Prat', 'NOM_REG': 'Aysén del General Carlos Ibáñez del Campo', 'UTM_ESTE_W': 133052.5489, 'UTM_NORTE_': 4593620.841300001}}, {'type': 'Feature', 'geometry': {'type': 'Point', 'coordinates': [-73.58219440928595, -48.83383334870933]}, 'id': '36', 'properties': {'ALTITUD': 1428, 'CINE_COM': 11303, 'CINE_PROV': 113, 'CINE_REG': 11, 'COD_BNA': '12020000-3', 'COD_CUEN': 1108, 'COD_SUBC': 110800, 'ESTADO': 'descontinuada', 'HABILITACI': 2014, 'HUSO': '18 F', 'Lat': -48.83383334870933, 'Lon': -73.58219440928595, 'NOMBRE': 'Hielo Sur En Glaciar Greve', 'NOM_COM': 'Tortel', 'NOM_CUEN': 'Cuencas Costeras entre Río Pascua y límite Regional Archipiélago Guaitecas', 'NOM_PROV': 'Capitán Prat', 'NOM_REG': 'Aysén del General Carlos Ibáñez del Campo', 'UTM_ESTE_W': 163780.9761999991, 'UTM_NORTE_': 4580884.7478}}, {'type': 'Feature', 'geometry': {'type': 'Point', 'coordinates': [-73.72361111773799, -48.83305554396342]}, 'id': '37', 'properties': {'ALTITUD': 915, 'CINE_COM': 11303, 'CINE_PROV': 113, 'CINE_REG': 11, 'COD_BNA': '12020001-1', 'COD_CUEN': 1200, 'COD_SUBC': 120000, 'ESTADO': 'operativa', 'HABILITACI': '01/10/2015', 'HUSO': '19 S', 'Lat': -48.83305554396342, 'Lon': -73.72361111773799, 'NOMBRE': 'Hielo Sur En Glaciar Greve Nunatak Occidental', 'NOM_COM': 'Tortel', 'NOM_CUEN': 'Cuencas del Campos de Hielo', 'NOM_PROV': 'Capitán Prat', 'NOM_REG': 'Aysén del General Carlos Ibáñez del Campo', 'UTM_ESTE_W': 153402.2434000003, 'UTM_NORTE_': 4580335.602200001}}, {'type': 'Feature', 'geometry': {'type': 'Point', 'coordinates': [-73.56033671992598, -50.37764444440875]}, 'id': '38', 'properties': {'ALTITUD': 10, 'CINE_COM': 12401, 'CINE_PROV': 124, 'CINE_REG': 12, 'COD_BNA': '12080001-9', 'COD_CUEN': 1200, 'COD_SUBC': 120009, 'ESTADO': 'operativa', 'HABILITACI': 2016, 'HUSO': '19 S', 'Lat': -50.37764444440875, 'Lon': -73.56033671992598, 'NOMBRE': 'Fiordo Andrew', 'NOM_COM': 'Natales', 'NOM_CUEN': 'Cuencas del Campos de Hielo', 'NOM_PROV': 'Última Esperanza', 'NOM_REG': 'Magallanes y de la Antártica Chilena', 'UTM_ESTE_W': 175805.0991000001, 'UTM_NORTE_': 4409432.323400001}}, {'type': 'Feature', 'geometry': {'type': 'Point', 'coordinates': [-73.7683757901861, -50.96242030983847]}, 'id': '39', 'properties': {'ALTITUD': 45, 'CINE_COM': 12401, 'CINE_PROV': 124, 'CINE_REG': 12, 'COD_BNA': '12210000-6', 'COD_CUEN': 1202, 'COD_SUBC': 120203, 'ESTADO': 'operativa', 'HABILITACI': 2015, 'HUSO': '18 F', 'Lat': -50.96242030983847, 'Lon': -73.7683757901861, 'NOMBRE': 'Fiordo Amalia', 'NOM_COM': 'Natales', 'NOM_CUEN': 'Cuencas Costeras entre Seno Andrew y Punta Desengaño', 'NOM_PROV': 'Última Esperanza', 'NOM_REG': 'Magallanes y de la Antártica Chilena', 'UTM_ESTE_W': 165214.6627999997, 'UTM_NORTE_': 4343522.126800001}}, {'type': 'Feature', 'geometry': {'type': 'Point', 'coordinates': [-73.315, -51.8719]}, 'id': '40', 'properties': {'ALTITUD': 2, 'CINE_COM': 12401, 'CINE_PROV': 124, 'CINE_REG': 12, 'COD_BNA': '12250001-2', 'COD_CUEN': 1202, 'COD_SUBC': 120208, 'ESTADO': 'operativa', 'HABILITACI': '01/10/2021', 'HUSO': '19 S', 'Lat': -51.8719, 'Lon': -73.315, 'NOMBRE': 'Glaciar Bernal', 'NOM_COM': 'Natales', 'NOM_CUEN': 'Cuencas Costeras entre Seno Andrew y Punta Desengaño', 'NOM_PROV': 'Última Esperanza', 'NOM_REG': 'Magallanes y de la Antártica Chilena', 'UTM_ESTE_W': 202994.8031933407, 'UTM_NORTE_': 4244404.319933614}}, {'type': 'Feature', 'geometry': {'type': 'Point', 'coordinates': [-73.1, -51.42080000000001]}, 'id': '41', 'properties': {'ALTITUD': 5, 'CINE_COM': 12401, 'CINE_PROV': 124, 'CINE_REG': 12, 'COD_BNA': '12273000-K', 'COD_CUEN': 1202, 'COD_SUBC': 120206, 'ESTADO': 'operativa', 'HABILITACI': '03/08/2010', 'HUSO': '19 S', 'Lat': -51.42080000000001, 'Lon': -73.1, 'NOMBRE': 'Glaciar Balmaceda', 'NOM_COM': 'Natales', 'NOM_CUEN': 'Cuencas Costeras entre Seno Andrew y Punta Desengaño', 'NOM_PROV': 'Última Esperanza', 'NOM_REG': 'Magallanes y de la Antártica Chilena', 'UTM_ESTE_W': 214968.7912347247, 'UTM_NORTE_': 4295400.379363794}}, {'type': 'Feature', 'geometry': {'type': 'Point', 'coordinates': [-73.28240615337225, -51.11710174368874]}, 'id': '42', 'properties': {'ALTITUD': 345, 'CINE_COM': 12402, 'CINE_PROV': 124, 'CINE_REG': 12, 'COD_BNA': '12288000-1', 'COD_CUEN': 1202, 'COD_SUBC': 120200, 'ESTADO': 'operativa', 'HABILITACI': '06/12/2010', 'HUSO': '19 S', 'Lat': -51.11710174368874, 'Lon': -73.28240615337225, 'NOMBRE': 'Glaciar Tyndall En Campamento Zapata', 'NOM_COM': 'Torres del Paine', 'NOM_CUEN': 'Cuencas Costeras entre Seno Andrew y Punta Desengaño', 'NOM_PROV': 'Última Esperanza', 'NOM_REG': 'Magallanes y de la Antártica Chilena', 'UTM_ESTE_W': 200321.4054999995, 'UTM_NORTE_': 4328427.653399999}}, {'type': 'Feature', 'geometry': {'type': 'Point', 'coordinates': [-73.2825, -51.11689999999999]}, 'id': '43', 'properties': {'ALTITUD': 565, 'CINE_COM': 12402, 'CINE_PROV': 124, 'CINE_REG': 12, 'COD_BNA': '12288006-0', 'COD_CUEN': 1202, 'COD_SUBC': 120200, 'ESTADO': 'operativa', 'HABILITACI': '02/09/2021', 'HUSO': '19 S', 'Lat': -51.11689999999999, 'Lon': -73.2825, 'NOMBRE': 'Glaciar Tyndall', 'NOM_COM': 'Torres del Paine', 'NOM_CUEN': 'Cuencas Costeras entre Seno Andrew y Punta Desengaño', 'NOM_PROV': 'Última Esperanza', 'NOM_REG': 'Magallanes y de la Antártica Chilena', 'UTM_ESTE_W': 200313.5338018374, 'UTM_NORTE_': 4328449.692541578}}]}\n"
          ]
        }
      ]
    },
    {
      "cell_type": "code",
      "source": [
        "def rasterExtraction(image):\n",
        "    feature = image.sampleRegions(collection=ee_fc,scale=scale)\n",
        "    return feature\n",
        "\n",
        "def addDate(image):\n",
        "    img_date = ee.Date(image.date())\n",
        "    img_date = ee.Number.parse(img_date.format('YYYYMMdd'))\n",
        "    return image.addBands(ee.Image(img_date).rename('date').toInt())\n",
        "\n",
        "def getCelsius(image):\n",
        "    \n",
        "    # LST\n",
        "    lst = image.select(banda).multiply(0.00341802).add(149.0).add(-273.15)\\\n",
        "    .rename(\"LST\")\n",
        "    image = image.addBands(lst)\n",
        "\n",
        "    return(image)\n",
        "\n",
        "landsat_data = ee.ImageCollection('LANDSAT/LC09/C02/T1_L2') \\\n",
        "    .filterDate(i_date,f_date).map(getCelsius).map(addDate)\n",
        "  \n",
        "results=landsat_data.filterBounds(ee_fc).select('LST').map(addDate)\\\n",
        ".map(rasterExtraction).flatten()\n",
        "sample_result=results.first().getInfo()\n",
        "#extract the properties column from feature collection\n",
        "#column order may not be as out sample data order\n",
        "\n",
        "columns=list(sample_result['properties'].keys())\n",
        "#order data columns as per sample data order\n",
        "#You can modify this for better optimizaction\n",
        "column_df=list(df_est.columns)\n",
        "column_df.extend(['LST','date'])\n",
        "nested_list = results.reduceColumns(ee.Reducer.toList(len(column_df)),\n",
        "                                    column_df).values().get(0)\n",
        "data = nested_list.getInfo()\n",
        "df = pd.DataFrame(data, columns=column_df)\n",
        "df.index=pd.to_datetime(df['date'],format=\"%Y%m%d\")\n",
        "df=df[[x for x in df.columns if x!='date']]\n",
        "df_pivot=pd.pivot_table(df,values='LST',index=df.index,columns=df['COD_BNA'])\n",
        "print(df_pivot.head())\n",
        "df_pivot.to_csv(os.path.join('.','results.csv'))"
      ],
      "metadata": {
        "colab": {
          "base_uri": "https://localhost:8080/"
        },
        "id": "EsXVm_GKXZqN",
        "outputId": "3ee54e23-90a2-485c-8664-72e5b17d6400"
      },
      "execution_count": 154,
      "outputs": [
        {
          "output_type": "stream",
          "name": "stdout",
          "text": [
            "COD_BNA     03413001-9  04300004-7  05400004-9  05400005-7  05702011-3  \\\n",
            "date                                                                     \n",
            "2021-11-04         NaN         NaN         NaN         NaN         NaN   \n",
            "2021-11-09         NaN         NaN         NaN         NaN         NaN   \n",
            "2021-11-19         NaN         NaN         NaN         NaN         NaN   \n",
            "2021-11-24         NaN         NaN         NaN   21.960101   30.894805   \n",
            "2021-12-06   35.245945    43.05612    46.42287   28.802977   45.253907   \n",
            "\n",
            "COD_BNA     05702015-6  05703012-7  05703013-5  05703014-3  05703016-K  ...  \\\n",
            "date                                                                    ...   \n",
            "2021-11-04         NaN         NaN         NaN         NaN         NaN  ...   \n",
            "2021-11-09         NaN         NaN         NaN         NaN         NaN  ...   \n",
            "2021-11-19         NaN         NaN         NaN         NaN         NaN  ...   \n",
            "2021-11-24   -3.213616   14.795931    4.511109   29.913833  -12.845597  ...   \n",
            "2021-12-06    8.004325   43.920879   20.934695   43.626930    4.890509  ...   \n",
            "\n",
            "COD_BNA     11706001-2  11800000-5  12000000-4  12020000-3  12020001-1  \\\n",
            "date                                                                     \n",
            "2021-11-04         NaN         NaN         NaN         NaN         NaN   \n",
            "2021-11-09    9.443312   24.868836         NaN    0.457337    1.763021   \n",
            "2021-11-19         NaN         NaN         NaN         NaN         NaN   \n",
            "2021-11-24         NaN         NaN         NaN         NaN         NaN   \n",
            "2021-12-06         NaN         NaN         NaN         NaN         NaN   \n",
            "\n",
            "COD_BNA     12210000-6  12250001-2  12273000-K  12288000-1  12288006-0  \n",
            "date                                                                    \n",
            "2021-11-04  -14.628094  -22.255406    3.875357  -12.585827  -12.585827  \n",
            "2021-11-09   14.648956   -5.886508    6.332914   13.365490   13.365490  \n",
            "2021-11-19         NaN         NaN         NaN         NaN         NaN  \n",
            "2021-11-24         NaN         NaN         NaN         NaN         NaN  \n",
            "2021-12-06         NaN         NaN         NaN         NaN         NaN  \n",
            "\n",
            "[5 rows x 43 columns]\n"
          ]
        }
      ]
    },
    {
      "cell_type": "code",
      "source": [],
      "metadata": {
        "id": "7p4f3_vAs2ff"
      },
      "execution_count": 153,
      "outputs": []
    }
  ]
}