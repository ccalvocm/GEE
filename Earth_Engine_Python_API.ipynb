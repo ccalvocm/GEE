{
  "nbformat": 4,
  "nbformat_minor": 0,
  "metadata": {
    "colab": {
      "provenance": [],
      "collapsed_sections": []
    },
    "kernelspec": {
      "name": "python3",
      "display_name": "Python 3"
    }
  },
  "cells": [
    {
      "cell_type": "code",
      "metadata": {
        "id": "8kdsGkYJXXKc"
      },
      "source": [
        "#@title Copyright 2020 The Earth Engine Community Authors { display-mode: \"form\" }\n",
        "#\n",
        "# Licensed under the Apache License, Version 2.0 (the \"License\");\n",
        "# you may not use this file except in compliance with the License.\n",
        "# You may obtain a copy of the License at\n",
        "#\n",
        "# https://www.apache.org/licenses/LICENSE-2.0\n",
        "#\n",
        "# Unless required by applicable law or agreed to in writing, software\n",
        "# distributed under the License is distributed on an \"AS IS\" BASIS,\n",
        "# WITHOUT WARRANTIES OR CONDITIONS OF ANY KIND, either express or implied.\n",
        "# See the License for the specific language governing permissions and\n",
        "# limitations under the License."
      ],
      "execution_count": null,
      "outputs": []
    },
    {
      "cell_type": "code",
      "metadata": {
        "id": "XeFsiSp2aDL6",
        "colab": {
          "base_uri": "https://localhost:8080/"
        },
        "outputId": "15fdac1c-a6a6-49f7-d69b-a5375c0a92ed"
      },
      "source": [
        "import ee\n",
        "\n",
        "# Trigger the authentication flow.\n",
        "ee.Authenticate()\n",
        "\n",
        "# Initialize the library.\n",
        "ee.Initialize()"
      ],
      "execution_count": 2,
      "outputs": [
        {
          "output_type": "stream",
          "name": "stdout",
          "text": [
            "To authorize access needed by Earth Engine, open the following URL in a web browser and follow the instructions. If the web browser does not start automatically, please manually browse the URL below.\n",
            "\n",
            "    https://code.earthengine.google.com/client-auth?scopes=https%3A//www.googleapis.com/auth/earthengine%20https%3A//www.googleapis.com/auth/devstorage.full_control&request_id=jBx3md1PDkJqw3JBk_gZyDS_V9dMhvIMovboDtJRStE&tc=yinFJDFp92Q-MgF6Pw5saOA7TW59JK9QQGisM5rmglU&cc=xgAVaweUdUjbkdQSAP2PmxewyYR0OScW9fpUIzVOlCM\n",
            "\n",
            "The authorization workflow will generate a code, which you should paste in the box below.\n",
            "Enter verification code: 4/1ARtbsJrZ1JrgfGdolJWKU-oWEl1FN16uICo-kf8LHm3aXaFx-L_tLhM4R08\n",
            "\n",
            "Successfully saved authorization token.\n"
          ]
        }
      ]
    },
    {
      "cell_type": "code",
      "metadata": {
        "id": "i6WDkfesPYeV"
      },
      "source": [
        "# Import the Landsat 7 Surface Temperature.\n",
        "lst = ee.ImageCollection('LANDSAT/LC09/C02/T1_L2')\n",
        "#lst=ee.ImageCollection('MODIS/061/MOD11A1')\n",
        "#lst=ee.ImageCollection('MODIS/061/MYD11A1')\n",
        "# Final date of interest (exclusive).\n",
        "i_date = '2021-10-31'\n",
        "#i_date='2000-02-24'\n",
        "#i_date='2002-07-04'\n",
        "#f_date='2022-10-09'\n",
        "#f_date='2022-10-07'\n",
        "f_date='2022-10-10'\n",
        "banda='ST_B10'\n",
        "#banda='LST_Day_1km'\n",
        "# Define the urban location of interest as a point near Lyon, France.\n",
        "u_lon = -69.8906\n",
        "u_lat = -33.5894\n",
        "u_poi = ee.Geometry.Point(u_lon,u_lat)\n",
        "scale=30"
      ],
      "execution_count": 19,
      "outputs": []
    },
    {
      "cell_type": "code",
      "source": [
        "def sample_point(point, image):\n",
        "    return image \\\n",
        "        .select([banda]) \\\n",
        "        .sample(\n",
        "            region=point.geometry(),\n",
        "            scale=30, \n",
        "            numPixels=1\n",
        "        ) \\\n",
        "        .first() \\\n",
        "        .set('year', image.date().get('year')) \\\n",
        "        .set('point', point.geometry().coordinates())\n",
        "\n",
        "def sample_image(image):\n",
        "    return pts.map(lambda point: sample_point(point, image))\n",
        "\n",
        "# define mapping function\n",
        "def point_mean(img):\n",
        "    mean = img.reduceRegion(reducer=ee.Reducer.mean(),\n",
        "                            geometry=u_poi,\n",
        "                            scale=scale).get(banda)\n",
        "    return img.set('date', img.date().format()).set('mean',mean)"
      ],
      "metadata": {
        "id": "kaTgQNQgj-C_"
      },
      "execution_count": 20,
      "outputs": []
    },
    {
      "cell_type": "code",
      "metadata": {
        "id": "WyNni8FsP0Ss"
      },
      "source": [
        "import pandas as pd\n",
        "collection = lst.filterBounds(u_poi)\n",
        "collectionF = collection.select(banda).filterDate(i_date,f_date)\n",
        "poi_reduced_imgs = collectionF.map(point_mean)\n",
        "nested_list = poi_reduced_imgs.reduceColumns(ee.Reducer.toList(2),\n",
        "                                             ['date','mean']).values().get(0)\n",
        "df = pd.DataFrame(nested_list.getInfo(), columns=['date','mean'])\n",
        "df['mean']=0.00341802*df['mean']+149.0-273.15\n",
        "#df['mean']=0.02*df['mean']-273.15\n",
        "import os\n",
        "df.to_csv(os.path.join('.','LST_Landsat9_2021_2022.csv'))"
      ],
      "execution_count": 21,
      "outputs": []
    }
  ]
}